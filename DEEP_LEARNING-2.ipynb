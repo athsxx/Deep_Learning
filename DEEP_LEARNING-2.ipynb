{
 "cells": [
  {
   "cell_type": "code",
   "execution_count": 1,
   "id": "6da67884-4ba0-4f37-8beb-7e9c748c5816",
   "metadata": {
    "scrolled": true
   },
   "outputs": [],
   "source": [
    "from transformers import Wav2Vec2ForCTC, Wav2Vec2Processor\n",
    "import torch\n",
    "import torchaudio"
   ]
  },
  {
   "cell_type": "code",
   "execution_count": 9,
   "id": "1ea7c8f0-6912-4459-84a9-887faea6f75c",
   "metadata": {},
   "outputs": [],
   "source": [
    "# Load model directly\n",
    "from transformers import AutoTokenizer, AutoModelForSeq2SeqLM\n",
    "\n",
    "tokenizer = AutoTokenizer.from_pretrained(\"Helsinki-NLP/opus-mt-en-hi\")\n",
    "Tmodel = AutoModelForSeq2SeqLM.from_pretrained(\"Helsinki-NLP/opus-mt-en-hi\")"
   ]
  },
  {
   "cell_type": "code",
   "execution_count": 11,
   "id": "93ae92d0-f853-4972-95e2-c7651d6ccb36",
   "metadata": {},
   "outputs": [
    {
     "name": "stderr",
     "output_type": "stream",
     "text": [
      "Some weights of the model checkpoint at facebook/wav2vec2-base-960h were not used when initializing Wav2Vec2ForCTC: ['wav2vec2.encoder.pos_conv_embed.conv.weight_g', 'wav2vec2.encoder.pos_conv_embed.conv.weight_v']\n",
      "- This IS expected if you are initializing Wav2Vec2ForCTC from the checkpoint of a model trained on another task or with another architecture (e.g. initializing a BertForSequenceClassification model from a BertForPreTraining model).\n",
      "- This IS NOT expected if you are initializing Wav2Vec2ForCTC from the checkpoint of a model that you expect to be exactly identical (initializing a BertForSequenceClassification model from a BertForSequenceClassification model).\n",
      "Some weights of Wav2Vec2ForCTC were not initialized from the model checkpoint at facebook/wav2vec2-base-960h and are newly initialized: ['wav2vec2.encoder.pos_conv_embed.conv.parametrizations.weight.original0', 'wav2vec2.encoder.pos_conv_embed.conv.parametrizations.weight.original1', 'wav2vec2.masked_spec_embed']\n",
      "You should probably TRAIN this model on a down-stream task to be able to use it for predictions and inference.\n"
     ]
    },
    {
     "name": "stdout",
     "output_type": "stream",
     "text": [
      "Recording...\n",
      "Recording finished.\n",
      "Transcription: AY MYTY ISATE WORTHRO\n"
     ]
    },
    {
     "data": {
      "text/plain": [
       "['सच्ची खुशी और संतोष मिलता है']"
      ]
     },
     "execution_count": 11,
     "metadata": {},
     "output_type": "execute_result"
    }
   ],
   "source": [
    "import torch\n",
    "import torchaudio\n",
    "import sounddevice as sd\n",
    "from transformers import Wav2Vec2Processor, Wav2Vec2ForCTC\n",
    "import noisereduce as nr\n",
    "\n",
    "# Load pre-trained model and processor\n",
    "processor = Wav2Vec2Processor.from_pretrained(\"facebook/wav2vec2-base-960h\")\n",
    "model = Wav2Vec2ForCTC.from_pretrained(\"facebook/wav2vec2-base-960h\")\n",
    "\n",
    "# Parameters for recording\n",
    "duration = 5  # seconds\n",
    "sampling_rate = 16000\n",
    "\n",
    "# Function to normalize the audio\n",
    "def normalize(audio):\n",
    "    audio = audio / torch.max(torch.abs(audio))\n",
    "    return audio\n",
    "\n",
    "# Function to preprocess the audio\n",
    "def preprocess_audio(audio, sampling_rate):\n",
    "    # Resample if necessary\n",
    "    if sampling_rate != 16000:\n",
    "        resampler = torchaudio.transforms.Resample(sampling_rate, 16000)\n",
    "        audio = resampler(audio)\n",
    "        sampling_rate = 16000\n",
    "    \n",
    "    # Convert to numpy array for noise reduction\n",
    "    audio_np = audio.numpy()\n",
    "\n",
    "    # Apply noise reduction\n",
    "    reduced_noise_array = nr.reduce_noise(y=audio_np, sr=sampling_rate)\n",
    "    \n",
    "    # Convert back to tensor\n",
    "    audio = torch.tensor(reduced_noise_array)\n",
    "    \n",
    "    # Normalize the audio\n",
    "    audio = normalize(audio)\n",
    "    \n",
    "    return audio, sampling_rate\n",
    "\n",
    "\n",
    "# Record audio from the microphone\n",
    "src_text = []\n",
    "print(\"Recording...\")\n",
    "speech_array = sd.rec(int(duration * sampling_rate), samplerate=sampling_rate, channels=1, dtype='float32')\n",
    "sd.wait()  # Wait until recording is finished\n",
    "print(\"Recording finished.\")\n",
    "\n",
    "# Convert the recorded speech to a tensor\n",
    "speech_array = torch.tensor(speech_array).squeeze()\n",
    "\n",
    "# Preprocess the audio\n",
    "speech_array, sampling_rate = preprocess_audio(speech_array, sampling_rate)\n",
    "\n",
    "# Process input values\n",
    "input_values = processor(speech_array, sampling_rate=sampling_rate, return_tensors=\"pt\", padding=\"longest\").input_values\n",
    "\n",
    "# Perform ASR\n",
    "with torch.no_grad():\n",
    "    logits = model(input_values).logits\n",
    "\n",
    "# Decode the predicted ids to text\n",
    "predicted_ids = torch.argmax(logits, dim=-1)\n",
    "transcription = processor.decode(predicted_ids[0])\n",
    "print(\"Transcription:\", transcription)\n",
    "\n",
    "src_text.append(str(transcription))\n",
    "translated = Tmodel.generate(**tokenizer(src_text, return_tensors=\"pt\", padding=True))\n",
    "[tokenizer.decode(t, skip_special_tokens=True) for t in translated]"
   ]
  },
  {
   "cell_type": "code",
   "execution_count": null,
   "id": "3761dd60-cf96-4493-a013-09cc10e39195",
   "metadata": {},
   "outputs": [],
   "source": [
    "\n",
    "\n"
   ]
  },
  {
   "cell_type": "code",
   "execution_count": null,
   "id": "cfd84ab5-5778-440e-b48b-31994010d344",
   "metadata": {},
   "outputs": [],
   "source": []
  }
 ],
 "metadata": {
  "kernelspec": {
   "display_name": "Python 3 (ipykernel)",
   "language": "python",
   "name": "python3"
  },
  "language_info": {
   "codemirror_mode": {
    "name": "ipython",
    "version": 3
   },
   "file_extension": ".py",
   "mimetype": "text/x-python",
   "name": "python",
   "nbconvert_exporter": "python",
   "pygments_lexer": "ipython3",
   "version": "3.11.8"
  }
 },
 "nbformat": 4,
 "nbformat_minor": 5
}
